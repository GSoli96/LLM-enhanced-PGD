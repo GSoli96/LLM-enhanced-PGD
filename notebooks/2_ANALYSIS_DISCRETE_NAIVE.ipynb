{
 "cells": [
  {
   "metadata": {
    "ExecuteTime": {
     "end_time": "2024-10-18T08:18:15.027895Z",
     "start_time": "2024-10-18T08:18:14.394639Z"
    }
   },
   "cell_type": "code",
   "source": "import pandas as pd",
   "id": "b053dbab344bffa",
   "outputs": [],
   "execution_count": 1
  },
  {
   "metadata": {},
   "cell_type": "markdown",
   "source": "## LOAD NAIVE RESULTS",
   "id": "d737d6ea0d8cf5bb"
  },
  {
   "metadata": {
    "ExecuteTime": {
     "end_time": "2024-10-18T08:18:15.147654Z",
     "start_time": "2024-10-18T08:18:15.028907Z"
    }
   },
   "cell_type": "code",
   "source": [
    "naive_results_dall_e_path_g_8='../data/test/discrete/naive/dall_e/naive_big_g_8.json'\n",
    "naive_results_dall_e_path_g_32='../data/test/discrete/naive/dall_e/naive_big_g_32.json'\n",
    "naive_results_dall_e_path_g_64='../data/test/discrete/naive/dall_e/naive_big_g_64.json'\n",
    "naive_results_imagen_path_g_8='../data/test/discrete/naive/imagen/naive_medium_safe_big_g_8.json'\n",
    "naive_results_imagen_path_g_32='../data/test/discrete/naive/imagen/naive_medium_safe_big_g_32.json'\n",
    "naive_results_imagen_path_g_64='../data/test/discrete/naive/imagen/naive_medium_safe_big_g_64.json'\n",
    "\n",
    "results_paths_dalle=[naive_results_dall_e_path_g_8,naive_results_dall_e_path_g_32,naive_results_dall_e_path_g_64]\n",
    "results_paths_imagen=[naive_results_imagen_path_g_8,naive_results_imagen_path_g_32,naive_results_imagen_path_g_64]\n",
    "result_dfs_dalle=[]\n",
    "result_dfs_imagen=[]\n",
    "for i in range(len(results_paths_dalle)):\n",
    "\n",
    "    pd_results=pd.read_json(results_paths_dalle[i],orient='records')\n",
    "    result_dfs_dalle.append(pd_results)\n",
    "    pd_results=pd.read_json(results_paths_imagen[i],orient='records')\n",
    "    result_dfs_imagen.append(pd_results)\n",
    "    "
   ],
   "id": "13a2606ca3ae9097",
   "outputs": [],
   "execution_count": 2
  },
  {
   "metadata": {},
   "cell_type": "markdown",
   "source": "## EVALUATE REJECTION AND SIMILARITY",
   "id": "27a48fed8c6eb281"
  },
  {
   "metadata": {
    "ExecuteTime": {
     "end_time": "2024-10-18T08:18:15.169671Z",
     "start_time": "2024-10-18T08:18:15.148665Z"
    }
   },
   "cell_type": "code",
   "source": [
    "results = []\n",
    "seq_len=[8,32,64]\n",
    "for i in range(len(result_dfs_dalle)):\n",
    "    df=result_dfs_dalle[i]\n",
    "    similarity_vals=df[~df['image_filename'].isna()]['similarity']\n",
    "    df_none_image = df[df['image_filename'].isna()]\n",
    "    blocked_text_true_pct = (df_none_image['blocked_text'].sum() / len(df_none_image)) * 100\n",
    "    \n",
    "    results.append({\n",
    "        'model': 'Dall-e',\n",
    "        'seq_len': seq_len[i],\n",
    "        'rejection_perc': round((100 * len(df_none_image) / len(df)), 2),\n",
    "        'rejection_text_perc': round(blocked_text_true_pct, 2),\n",
    "        'rejection_image_perc': round(100 - blocked_text_true_pct, 2),\n",
    "        'similarity': similarity_vals.mean()\n",
    "    })\n",
    "    \n",
    "    df=result_dfs_imagen[i]\n",
    "    similarity_vals=df[~df['image_filename'].isna()]['similarity']\n",
    "    df_none_image = df[df['image_filename'].isna()]\n",
    "    blocked_text_true_pct = (df_none_image['blocked_text'].sum() / len(df_none_image)) * 100\n",
    "    \n",
    "    results.append({\n",
    "        'model': 'Imagen',\n",
    "        'seq_len': seq_len[i],\n",
    "        'rejection_perc': round((100 * len(df_none_image) / len(df)), 2),\n",
    "        'rejection_text_perc': round(blocked_text_true_pct, 2),\n",
    "        'rejection_image_perc': round(100 - blocked_text_true_pct, 2),\n",
    "        'similarity': similarity_vals.mean()\n",
    "    })\n",
    "    \n",
    "results= pd.DataFrame(results)\n",
    "results=results.sort_values(by=['model'])\n",
    "results"
   ],
   "id": "c47f00ef2c54f0da",
   "outputs": [
    {
     "data": {
      "text/plain": [
       "    model  seq_len  rejection_perc  rejection_text_perc  rejection_image_perc  \\\n",
       "0  Dall-e        8           19.39               100.00                  0.00   \n",
       "2  Dall-e       32           43.88                97.67                  2.33   \n",
       "4  Dall-e       64           44.90                86.36                 13.64   \n",
       "1  Imagen        8           86.73                96.47                  3.53   \n",
       "3  Imagen       32           86.32                96.34                  3.66   \n",
       "5  Imagen       64           88.17                95.12                  4.88   \n",
       "\n",
       "   similarity  \n",
       "0    0.233422  \n",
       "2    0.232998  \n",
       "4    0.198122  \n",
       "1    0.403103  \n",
       "3    0.409817  \n",
       "5    0.398394  "
      ],
      "text/html": [
       "<div>\n",
       "<style scoped>\n",
       "    .dataframe tbody tr th:only-of-type {\n",
       "        vertical-align: middle;\n",
       "    }\n",
       "\n",
       "    .dataframe tbody tr th {\n",
       "        vertical-align: top;\n",
       "    }\n",
       "\n",
       "    .dataframe thead th {\n",
       "        text-align: right;\n",
       "    }\n",
       "</style>\n",
       "<table border=\"1\" class=\"dataframe\">\n",
       "  <thead>\n",
       "    <tr style=\"text-align: right;\">\n",
       "      <th></th>\n",
       "      <th>model</th>\n",
       "      <th>seq_len</th>\n",
       "      <th>rejection_perc</th>\n",
       "      <th>rejection_text_perc</th>\n",
       "      <th>rejection_image_perc</th>\n",
       "      <th>similarity</th>\n",
       "    </tr>\n",
       "  </thead>\n",
       "  <tbody>\n",
       "    <tr>\n",
       "      <th>0</th>\n",
       "      <td>Dall-e</td>\n",
       "      <td>8</td>\n",
       "      <td>19.39</td>\n",
       "      <td>100.00</td>\n",
       "      <td>0.00</td>\n",
       "      <td>0.233422</td>\n",
       "    </tr>\n",
       "    <tr>\n",
       "      <th>2</th>\n",
       "      <td>Dall-e</td>\n",
       "      <td>32</td>\n",
       "      <td>43.88</td>\n",
       "      <td>97.67</td>\n",
       "      <td>2.33</td>\n",
       "      <td>0.232998</td>\n",
       "    </tr>\n",
       "    <tr>\n",
       "      <th>4</th>\n",
       "      <td>Dall-e</td>\n",
       "      <td>64</td>\n",
       "      <td>44.90</td>\n",
       "      <td>86.36</td>\n",
       "      <td>13.64</td>\n",
       "      <td>0.198122</td>\n",
       "    </tr>\n",
       "    <tr>\n",
       "      <th>1</th>\n",
       "      <td>Imagen</td>\n",
       "      <td>8</td>\n",
       "      <td>86.73</td>\n",
       "      <td>96.47</td>\n",
       "      <td>3.53</td>\n",
       "      <td>0.403103</td>\n",
       "    </tr>\n",
       "    <tr>\n",
       "      <th>3</th>\n",
       "      <td>Imagen</td>\n",
       "      <td>32</td>\n",
       "      <td>86.32</td>\n",
       "      <td>96.34</td>\n",
       "      <td>3.66</td>\n",
       "      <td>0.409817</td>\n",
       "    </tr>\n",
       "    <tr>\n",
       "      <th>5</th>\n",
       "      <td>Imagen</td>\n",
       "      <td>64</td>\n",
       "      <td>88.17</td>\n",
       "      <td>95.12</td>\n",
       "      <td>4.88</td>\n",
       "      <td>0.398394</td>\n",
       "    </tr>\n",
       "  </tbody>\n",
       "</table>\n",
       "</div>"
      ]
     },
     "execution_count": 3,
     "metadata": {},
     "output_type": "execute_result"
    }
   ],
   "execution_count": 3
  },
  {
   "metadata": {},
   "cell_type": "code",
   "outputs": [],
   "execution_count": null,
   "source": "",
   "id": "d95e1d6592ab8f15"
  }
 ],
 "metadata": {
  "kernelspec": {
   "display_name": "Python 3",
   "language": "python",
   "name": "python3"
  },
  "language_info": {
   "codemirror_mode": {
    "name": "ipython",
    "version": 2
   },
   "file_extension": ".py",
   "mimetype": "text/x-python",
   "name": "python",
   "nbconvert_exporter": "python",
   "pygments_lexer": "ipython2",
   "version": "2.7.6"
  }
 },
 "nbformat": 4,
 "nbformat_minor": 5
}
