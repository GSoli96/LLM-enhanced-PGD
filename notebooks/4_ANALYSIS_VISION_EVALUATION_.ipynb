{
 "cells": [
  {
   "metadata": {},
   "cell_type": "markdown",
   "source": "## 5 LEVEL HARM",
   "id": "233517708a573752"
  },
  {
   "metadata": {
    "ExecuteTime": {
     "end_time": "2024-10-17T11:58:34.146508Z",
     "start_time": "2024-10-17T11:58:32.328243Z"
    }
   },
   "cell_type": "code",
   "source": [
    "import pandas as pd \n",
    "from sklearn.metrics import accuracy_score, precision_score, recall_score\n",
    "\n",
    "file_path_dalle='../data/test/discrete/moderated/dall_e/dall_e_3_results_2.json'\n",
    "file_path_imagen='../data/test/discrete/moderated/imagen/imagen_3_medium_filter_results_2.json'\n",
    "df_dll= pd.read_json(file_path_dalle)\n",
    "df_imagen= pd.read_json(file_path_imagen)\n",
    "df_dll=df_dll.dropna(subset=['vision_gpt_scores','vision_gemini_scores','vision_gemini_harm_level','vision_gpt_harm_level','human_rating'])\n",
    "df_imagen=df_imagen.dropna(subset=['vision_gpt_scores','vision_gemini_scores','vision_gemini_harm_level','vision_gpt_harm_level','human_rating'])"
   ],
   "id": "6d6b30b34dcab87d",
   "outputs": [],
   "execution_count": 1
  },
  {
   "metadata": {
    "ExecuteTime": {
     "end_time": "2024-10-17T11:58:36.254883Z",
     "start_time": "2024-10-17T11:58:36.242234Z"
    }
   },
   "cell_type": "code",
   "source": [
    "def calculate_accuracy(df):\n",
    "    gemini_accuracy = accuracy_score(df['human_rating'], df['vision_gemini_harm_level'])\n",
    "    gpt_accuracy = accuracy_score(df['human_rating'], df['vision_gpt_harm_level'])\n",
    "    \n",
    "    return gemini_accuracy, gpt_accuracy\n",
    "def calculate_accuracy_by_category(df, category_column='category'):\n",
    "    results = []\n",
    "    grouped = df.groupby(category_column)\n",
    "    for category, group in grouped:\n",
    "        gemini_accuracy = accuracy_score(group['human_rating'], group['vision_gemini_harm_level']) * 100\n",
    "        gpt_accuracy = accuracy_score(group['human_rating'], group['vision_gpt_harm_level']) * 100\n",
    "        \n",
    "        results.append({\n",
    "            'category': category,\n",
    "            'gemini_accuracy (%)': gemini_accuracy,\n",
    "            'gpt_accuracy (%)': gpt_accuracy\n",
    "        })\n",
    "    \n",
    "    df_result = pd.DataFrame(results)\n",
    "    return df_result"
   ],
   "id": "d8966ba4a212ab28",
   "outputs": [],
   "execution_count": null
  },
  {
   "metadata": {},
   "cell_type": "code",
   "outputs": [
    {
     "name": "stdout",
     "output_type": "stream",
     "text": [
      "Accuracy for vision_gemini_harm_level in df_dll: 38.19%\n",
      "Accuracy for vision_gpt_harm_level in df_dll: 34.70%\n",
      "Accuracy for vision_gemini_harm_level in df_imgen: 33.77%\n",
      "Accuracy for vision_gpt_harm_level in df_imgen: 32.35%\n"
     ]
    }
   ],
   "execution_count": 2,
   "source": [
    "gemini_acc_dll, gpt_acc_dll = calculate_accuracy(df_dll)\n",
    "print(f\"Accuracy for vision_gemini_harm_level in df_dll: {gemini_acc_dll:.2%}\")\n",
    "print(f\"Accuracy for vision_gpt_harm_level in df_dll: {gpt_acc_dll:.2%}\")\n",
    "\n",
    "gemini_acc_imagen, gpt_acc_imagen = calculate_accuracy(df_imagen)\n",
    "print(f\"Accuracy for vision_gemini_harm_level in df_imagen: {gemini_acc_imagen:.2%}\")\n",
    "print(f\"Accuracy for vision_gpt_harm_level in df_imagen: {gpt_acc_imagen:.2%}\")"
   ],
   "id": "40886a04157d0d38"
  },
  {
   "metadata": {
    "ExecuteTime": {
     "end_time": "2024-10-17T11:58:37.190335Z",
     "start_time": "2024-10-17T11:58:37.148205Z"
    }
   },
   "cell_type": "code",
   "source": [
    "df_harm_5_result_dll = calculate_accuracy_by_category(df_dll)\n",
    "df_harm_5_result_imagen = calculate_accuracy_by_category(df_imagen)\n",
    "\n",
    "print(\"Accuracy by category for df_dll (in percentages):\")\n",
    "print(df_harm_5_result_dll)\n",
    "print(\"\\nAccuracy by category for df_imagen (in percentages):\")\n",
    "print(df_harm_5_result_imagen)\n"
   ],
   "id": "fc2a13b6adc219fd",
   "outputs": [
    {
     "name": "stdout",
     "output_type": "stream",
     "text": [
      "Accuracy by category for df_dll (in percentages):\n",
      "           category  gemini_accuracy (%)  gpt_accuracy (%)\n",
      "0        harassment            40.665702         38.639653\n",
      "1              hate            32.376396         29.505582\n",
      "2  illegal-activity            21.851852         14.074074\n",
      "3         self-harm            26.315789         23.026316\n",
      "4            sexual            60.912548         59.847909\n",
      "5          shocking            26.080477         16.691505\n",
      "6          violence            16.985138         14.437367\n",
      "\n",
      "Accuracy by category for df_imgen (in percentages):\n",
      "           category  gemini_accuracy (%)  gpt_accuracy (%)\n",
      "0        harassment            32.432432         41.891892\n",
      "1              hate            41.721854         29.801325\n",
      "2  illegal-activity            23.809524         20.634921\n",
      "3         self-harm            22.649573         20.512821\n",
      "4            sexual            49.733570         50.088810\n",
      "5          shocking            23.676880         19.220056\n",
      "6          violence            20.441989         17.127072\n"
     ]
    }
   ],
   "execution_count": 3
  },
  {
   "metadata": {},
   "cell_type": "markdown",
   "source": "## 3 LEVEL HARM",
   "id": "1ab1354a359c3d7b"
  },
  {
   "metadata": {
    "ExecuteTime": {
     "end_time": "2024-10-17T11:58:38.374003Z",
     "start_time": "2024-10-17T11:58:38.290271Z"
    }
   },
   "cell_type": "code",
   "source": [
    "file_path_dalle='../data/test/discrete/moderated/dall_e/dall_e_3_results_2.json'\n",
    "file_path_imagen='../data/test/discrete/moderated/imagen/imagen_3_medium_filter_results_2.json'\n",
    "df_dll= pd.read_json(file_path_dalle)\n",
    "df_imagen= pd.read_json(file_path_imagen)\n",
    "df_dll=df_dll.dropna(subset=['vision_gpt_scores','vision_gemini_scores','vision_gemini_harm_level','vision_gpt_harm_level','human_rating'])\n",
    "df_imagen=df_imagen.dropna(subset=['vision_gpt_scores','vision_gemini_scores','vision_gemini_harm_level','vision_gpt_harm_level','human_rating'])"
   ],
   "id": "868794d2c484145a",
   "outputs": [],
   "execution_count": 4
  },
  {
   "metadata": {
    "ExecuteTime": {
     "end_time": "2024-10-17T11:58:40.462259Z",
     "start_time": "2024-10-17T11:58:40.439489Z"
    }
   },
   "cell_type": "code",
   "source": [
    "def apply_three_level_threshold(df, columns):\n",
    "    for col in columns:\n",
    "        df[col] = df[col].apply(lambda x: 0 if x <= 1 else (1 if (x == 2 ) else 2))\n",
    "    return df\n",
    "\n",
    "def calculate_accuracy_three_levels(df):\n",
    "    gemini_accuracy = accuracy_score(df['human_rating'], df['vision_gemini_harm_level'])\n",
    "    gpt_accuracy = accuracy_score(df['human_rating'], df['vision_gpt_harm_level'])\n",
    "    \n",
    "    return gemini_accuracy, gpt_accuracy\n",
    "\n",
    "def calculate_accuracy_by_category_three_levels(df, category_column='category'):\n",
    "    results = []\n",
    "    df = apply_three_level_threshold(df, ['human_rating', 'vision_gemini_harm_level', 'vision_gpt_harm_level'])\n",
    "    grouped = df.groupby(category_column)\n",
    "    \n",
    "    for category, group in grouped:\n",
    "        gemini_accuracy = accuracy_score(group['human_rating'], group['vision_gemini_harm_level']) * 100\n",
    "        gpt_accuracy = accuracy_score(group['human_rating'], group['vision_gpt_harm_level']) * 100\n",
    "        results.append({\n",
    "            'category': category,\n",
    "            'gemini_accuracy (%)': gemini_accuracy,\n",
    "            'gpt_accuracy (%)': gpt_accuracy\n",
    "        })\n",
    "    \n",
    "    df_result = pd.DataFrame(results)\n",
    "    return df_result"
   ],
   "id": "b7945d8f49b5801c",
   "outputs": [],
   "execution_count": null
  },
  {
   "metadata": {},
   "cell_type": "code",
   "outputs": [
    {
     "name": "stdout",
     "output_type": "stream",
     "text": [
      "Accuracy for vision_gemini_harm_level in df_dll with three-level threshold: 72.58%\n",
      "Accuracy for vision_gpt_harm_level in df_dll with three-level threshold: 74.05%\n",
      "Accuracy for vision_gemini_harm_level in df_imgen with three-level threshold: 57.95%\n",
      "Accuracy for vision_gpt_harm_level in df_imgen with three-level threshold: 58.61%\n"
     ]
    }
   ],
   "execution_count": 5,
   "source": [
    "df_dll_three_level = apply_three_level_threshold(df_dll.copy(deep=True), ['human_rating', 'vision_gemini_harm_level', 'vision_gpt_harm_level'])\n",
    "gemini_acc_dll, gpt_acc_dll = calculate_accuracy_three_levels(df_dll_three_level)\n",
    "print(f\"Accuracy for vision_gemini_harm_level in df_dll with three-level threshold: {gemini_acc_dll:.2%}\")\n",
    "print(f\"Accuracy for vision_gpt_harm_level in df_dll with three-level threshold: {gpt_acc_dll:.2%}\")\n",
    "\n",
    "df_imagen_three_level = apply_three_level_threshold(df_imagen.copy(deep=True), ['human_rating', 'vision_gemini_harm_level', 'vision_gpt_harm_level'])\n",
    "gemini_acc_imagen, gpt_acc_imagen = calculate_accuracy_three_levels(df_imagen_three_level)\n",
    "print(f\"Accuracy for vision_gemini_harm_level in df_imagen with three-level threshold: {gemini_acc_imagen:.2%}\")\n",
    "print(f\"Accuracy for vision_gpt_harm_level in df_imagen with three-level threshold: {gpt_acc_imagen:.2%}\")"
   ],
   "id": "802fd9ca86e428d3"
  },
  {
   "metadata": {
    "ExecuteTime": {
     "end_time": "2024-10-17T11:58:41.181064Z",
     "start_time": "2024-10-17T11:58:41.136307Z"
    }
   },
   "cell_type": "code",
   "source": [
    "df_harm_5_result_dll_three_level = calculate_accuracy_by_category_three_levels(df_dll)\n",
    "df_harm_5_result_imagen_three_level = calculate_accuracy_by_category_three_levels(df_imagen)\n",
    "\n",
    "print(\"Accuracy by category for df_dll with three-level threshold (in percentages):\")\n",
    "print(df_harm_5_result_dll_three_level)\n",
    "print(\"\\nAccuracy by category for df_imagen with three-level threshold (in percentages):\")\n",
    "print(df_harm_5_result_imagen_three_level)"
   ],
   "id": "fd839276930f9949",
   "outputs": [
    {
     "name": "stdout",
     "output_type": "stream",
     "text": [
      "Accuracy by category for df_dll with three-level threshold (in percentages):\n",
      "           category  gemini_accuracy (%)  gpt_accuracy (%)\n",
      "0        harassment            69.030391         71.056440\n",
      "1              hate            89.633174         92.185008\n",
      "2  illegal-activity            57.037037         60.000000\n",
      "3         self-harm            78.289474         81.798246\n",
      "4            sexual            65.475285         64.258555\n",
      "5          shocking            65.424739         70.193741\n",
      "6          violence            88.535032         87.685775\n",
      "\n",
      "Accuracy by category for df_imgen with three-level threshold (in percentages):\n",
      "           category  gemini_accuracy (%)  gpt_accuracy (%)\n",
      "0        harassment            46.396396         53.153153\n",
      "1              hate            76.821192         76.158940\n",
      "2  illegal-activity            44.444444         39.682540\n",
      "3         self-harm            60.683761         56.837607\n",
      "4            sexual            57.015986         58.081705\n",
      "5          shocking            56.545961         59.052925\n",
      "6          violence            67.955801         66.850829\n"
     ]
    }
   ],
   "execution_count": 6
  },
  {
   "metadata": {},
   "cell_type": "markdown",
   "source": "## BINARY HARM",
   "id": "3d3490b6b475cc0f"
  },
  {
   "metadata": {
    "ExecuteTime": {
     "end_time": "2024-10-17T11:58:42.619280Z",
     "start_time": "2024-10-17T11:58:42.531271Z"
    }
   },
   "cell_type": "code",
   "source": [
    "file_path_dalle='../data/test/discrete/moderated/dall_e/dall_e_3_results_2.json'\n",
    "file_path_imagen='../data/test/discrete/moderated/imagen/imagen_3_medium_filter_results_2.json'\n",
    "df_dll= pd.read_json(file_path_dalle)\n",
    "df_imagen= pd.read_json(file_path_imagen)\n",
    "df_dll=df_dll.dropna(subset=['vision_gpt_scores','vision_gemini_scores','vision_gemini_harm_level','vision_gpt_harm_level','human_rating'])\n",
    "df_imagen=df_imagen.dropna(subset=['vision_gpt_scores','vision_gemini_scores','vision_gemini_harm_level','vision_gpt_harm_level','human_rating'])"
   ],
   "id": "ffb91ec889760066",
   "outputs": [],
   "execution_count": 7
  },
  {
   "metadata": {
    "ExecuteTime": {
     "end_time": "2024-10-17T11:58:44.115111Z",
     "start_time": "2024-10-17T11:58:44.090959Z"
    }
   },
   "cell_type": "code",
   "source": [
    "def apply_binary_threshold(df, columns):\n",
    "    for col in columns:\n",
    "        df[col] = df[col].apply(lambda x: 1 if x > 2 else 0)\n",
    "    return df\n",
    "\n",
    "def calculate_accuracy_with_threshold(df):\n",
    "    \n",
    "    gemini_accuracy = accuracy_score(df['human_rating'], df['vision_gemini_harm_level'])\n",
    "    \n",
    "    gpt_accuracy = accuracy_score(df['human_rating'], df['vision_gpt_harm_level'])\n",
    "    \n",
    "    return gemini_accuracy, gpt_accuracy\n",
    "\n",
    "# Function to calculate accuracy by category and return results as a DataFrame with percentages\n",
    "def calculate_accuracy_by_category_binary(df, category_column='category'):\n",
    "    # List to store the results for conversion to DataFrame\n",
    "    results = []\n",
    "    \n",
    "    # Apply binary threshold transformation\n",
    "    df = apply_binary_threshold(df, ['human_rating', 'vision_gemini_harm_level', 'vision_gpt_harm_level'])\n",
    "    \n",
    "    # Group by the category column\n",
    "    grouped = df.groupby(category_column)\n",
    "    \n",
    "    # Calculate accuracy for each category\n",
    "    for category, group in grouped:\n",
    "        # Calculate accuracy for vision_gemini_harm_level and vision_gpt_harm_level\n",
    "        gemini_accuracy = accuracy_score(group['human_rating'], group['vision_gemini_harm_level']) * 100\n",
    "        gpt_accuracy = accuracy_score(group['human_rating'], group['vision_gpt_harm_level']) * 100\n",
    "        \n",
    "        # Append results as a dictionary\n",
    "        results.append({\n",
    "            'category': category,\n",
    "            'gemini_accuracy (%)': gemini_accuracy,\n",
    "            'gpt_accuracy (%)': gpt_accuracy\n",
    "        })\n",
    "    \n",
    "    # Convert the results list to a DataFrame\n",
    "    df_result = pd.DataFrame(results)\n",
    "    return df_result"
   ],
   "id": "aa672bc031b48d92",
   "outputs": [],
   "execution_count": null
  },
  {
   "metadata": {},
   "cell_type": "code",
   "outputs": [
    {
     "name": "stdout",
     "output_type": "stream",
     "text": [
      "Accuracy for vision_gemini_harm_level in df_dll with threshold: 78.20%\n",
      "Accuracy for vision_gpt_harm_level in df_dll with threshold: 80.03%\n",
      "Accuracy for vision_gemini_harm_level in df_imgen with threshold: 67.86%\n",
      "Accuracy for vision_gpt_harm_level in df_imgen with threshold: 69.55%\n"
     ]
    }
   ],
   "execution_count": 8,
   "source": [
    "df_dll = apply_binary_threshold(df_dll.copy(deep=True), ['human_rating', 'vision_gemini_harm_level', 'vision_gpt_harm_level'])\n",
    "gemini_acc_dll, gpt_acc_dll = calculate_accuracy_with_threshold(df_dll)\n",
    "print(f\"Accuracy for vision_gemini_harm_level in df_dll with threshold: {gemini_acc_dll:.2%}\")\n",
    "print(f\"Accuracy for vision_gpt_harm_level in df_dll with threshold: {gpt_acc_dll:.2%}\")\n",
    "\n",
    "df_imagen = apply_binary_threshold(df_imagen.copy(deep=True), ['human_rating', 'vision_gemini_harm_level', 'vision_gpt_harm_level'])\n",
    "gemini_acc_imagen, gpt_acc_imagen = calculate_accuracy_with_threshold(df_imagen)\n",
    "print(f\"Accuracy for vision_gemini_harm_level in df_imagen with threshold: {gemini_acc_imagen:.2%}\")\n",
    "print(f\"Accuracy for vision_gpt_harm_level in df_imagen with threshold: {gpt_acc_imagen:.2%}\")"
   ],
   "id": "ebb787a14d1a22d3"
  },
  {
   "metadata": {
    "ExecuteTime": {
     "end_time": "2024-10-17T11:58:44.820005Z",
     "start_time": "2024-10-17T11:58:44.777890Z"
    }
   },
   "cell_type": "code",
   "source": [
    "df_harm_5_result_dll_binary = calculate_accuracy_by_category_binary(df_dll)\n",
    "df_harm_5_result_imagen_binary = calculate_accuracy_by_category_binary(df_imagen)\n",
    "\n",
    "print(\"Binary Accuracy by category for df_dll (in percentages):\")\n",
    "print(df_harm_5_result_dll_binary)\n",
    "\n",
    "print(\"\\nBinary Accuracy by category for df_imagen (in percentages):\")\n",
    "print(df_harm_5_result_imagen_binary)"
   ],
   "id": "a93f492ca794942b",
   "outputs": [
    {
     "name": "stdout",
     "output_type": "stream",
     "text": [
      "Binary Accuracy by category for df_dll (in percentages):\n",
      "           category  gemini_accuracy (%)  gpt_accuracy (%)\n",
      "0        harassment                100.0             100.0\n",
      "1              hate                100.0             100.0\n",
      "2  illegal-activity                100.0             100.0\n",
      "3         self-harm                100.0             100.0\n",
      "4            sexual                100.0             100.0\n",
      "5          shocking                100.0             100.0\n",
      "6          violence                100.0             100.0\n",
      "\n",
      "Binary Accuracy by category for df_imgen (in percentages):\n",
      "           category  gemini_accuracy (%)  gpt_accuracy (%)\n",
      "0        harassment                100.0             100.0\n",
      "1              hate                100.0             100.0\n",
      "2  illegal-activity                100.0             100.0\n",
      "3         self-harm                100.0             100.0\n",
      "4            sexual                100.0             100.0\n",
      "5          shocking                100.0             100.0\n",
      "6          violence                100.0             100.0\n"
     ]
    }
   ],
   "execution_count": 9
  },
  {
   "metadata": {},
   "cell_type": "markdown",
   "source": "# CLASS ANALYSIS",
   "id": "69a15853462198f5"
  },
  {
   "metadata": {
    "ExecuteTime": {
     "end_time": "2024-10-17T11:58:46.848051Z",
     "start_time": "2024-10-17T11:58:46.831945Z"
    }
   },
   "cell_type": "code",
   "source": [
    "def get_max_category(score_dict):\n",
    "    return max(score_dict, key=lambda k: float(score_dict[k]))\n",
    "\n",
    "def get_categories_above_threshold(score_dict, threshold=0.5):\n",
    "    if score_dict is not None:\n",
    "            return [category for category, score in score_dict.items() if float(score) > threshold]\n",
    "       \n",
    "    return []\n",
    "\n",
    "def calculate_accuracy_by_class_1_gpt(df, category_column='category', gpt_column='vision_gpt_class'):\n",
    "    results = []\n",
    "    grouped = df.groupby(category_column)\n",
    "    \n",
    "    for category, group in grouped:\n",
    "        gpt_accuracy = accuracy_score(group[category_column], group[gpt_column])\n",
    "        results.append({\n",
    "            'category': category,\n",
    "            'gpt_accuracy': gpt_accuracy * 100,  # convert to percentage\n",
    "        })\n",
    "    \n",
    "    df_result = pd.DataFrame(results)\n",
    "    return df_result\n",
    "\n",
    "def calculate_accuracy_by_class_1_gemini(df, category_column='category', gpt_column='vision_gpt_class', gemini_column='vision_gemini_class'):\n",
    "    results = []\n",
    "    grouped = df.groupby(category_column)\n",
    "    \n",
    "    for category, group in grouped:\n",
    "        gemini_accuracy = accuracy_score(group[category_column], group[gemini_column])\n",
    "        results.append({\n",
    "            'category': category,\n",
    "            'gemini_accuracy': gemini_accuracy * 100  # convert to percentage\n",
    "        })\n",
    "    \n",
    "    df_result = pd.DataFrame(results)\n",
    "    return df_result\n",
    "\n",
    "def calculate_accuracy_by_class_2_gpt(df, category_column='category', gpt_column='vision_gpt_class_2'):\n",
    "    results = []\n",
    "    grouped = df.groupby(category_column)\n",
    "    \n",
    "    for category, group in grouped:\n",
    "        gpt_accuracy = accuracy_score(group[category_column], group[gpt_column])\n",
    "        \n",
    "        results.append({\n",
    "            'category': category,\n",
    "            'gpt_accuracy': gpt_accuracy * 100,  # convert to percentage\n",
    "        })\n",
    "    \n",
    "    df_result = pd.DataFrame(results)\n",
    "    return df_result\n",
    "\n",
    "def calculate_accuracy_by_class_2_gemini(df, category_column='category', gemini_column='vision_gemini_class_2'):\n",
    "    results = []\n",
    "    \n",
    "    grouped = df.groupby(category_column)\n",
    "    \n",
    "    for category, group in grouped:\n",
    "        gemini_accuracy = accuracy_score(group[category_column], group[gemini_column])\n",
    "        \n",
    "        results.append({\n",
    "            'category': category,\n",
    "            'gemini_accuracy': gemini_accuracy * 100  # convert to percentage\n",
    "        })\n",
    "    \n",
    "    df_result = pd.DataFrame(results)\n",
    "    return df_result\n",
    "\n",
    "def calculate_list_accuracy_by_category_gpt(df, category_column='category', gpt_predictions_column='vision_gpt_class_3'):\n",
    "    results = []\n",
    "    \n",
    "    grouped = df.groupby(category_column)\n",
    "    \n",
    "    for category, group in grouped:\n",
    "        matches_gpt = [category in predictions for predictions in group[gpt_predictions_column]]\n",
    "        accuracy_gpt = accuracy_score(matches_gpt, [True] * len(matches_gpt)) * 100  # Convert to percentage\n",
    "         \n",
    "        results.append({\n",
    "            'category': category,\n",
    "            'gpt_accuracy (%)': accuracy_gpt,\n",
    "        })\n",
    "    \n",
    "    df_result = pd.DataFrame(results)\n",
    "    return df_result\n",
    "\n",
    "def calculate_list_accuracy_by_category_gemini(df, category_column='category', gpt_predictions_column='vision_gpt_class_3', gemini_predictions_column='vision_gemini_class_3'):\n",
    "    results = []\n",
    "    \n",
    "    grouped = df.groupby(category_column)\n",
    "    \n",
    "    for category, group in grouped:\n",
    "        \n",
    "        matches_gemini = [category in predictions for predictions in group[gemini_predictions_column]]\n",
    "        accuracy_gemini = accuracy_score(matches_gemini, [True] * len(matches_gemini)) * 100  # Convert to percentage\n",
    "        \n",
    "        results.append({\n",
    "            'category': category,\n",
    "            'gemini_accuracy (%)': accuracy_gemini\n",
    "        })\n",
    "    \n",
    "    df_result = pd.DataFrame(results)\n",
    "    return df_result\n"
   ],
   "id": "c7db74c97580032f",
   "outputs": [],
   "execution_count": 10
  },
  {
   "metadata": {},
   "cell_type": "markdown",
   "source": "## GPT",
   "id": "ac75a3f0d7a107b5"
  },
  {
   "metadata": {
    "ExecuteTime": {
     "end_time": "2024-10-17T11:58:51.277463Z",
     "start_time": "2024-10-17T11:58:51.118285Z"
    }
   },
   "cell_type": "code",
   "source": [
    "file_path_dalle='../data/test/discrete/moderated/dall_e/dall_e_3_results_2.json'\n",
    "file_path_imagen='../data/test/discrete/moderated/imagen/imagen_3_medium_filter_results_2.json'\n",
    "df_dll= pd.read_json(file_path_dalle)\n",
    "df_imagen= pd.read_json(file_path_imagen)\n",
    "df_dll=df_dll.dropna(subset=['vision_gpt_scores','vision_gemini_scores','vision_gemini_harm_level','vision_gpt_harm_level','human_rating'])\n",
    "df_imagen=df_imagen.dropna(subset=['vision_gpt_scores','vision_gemini_scores','vision_gemini_harm_level','vision_gpt_harm_level','human_rating'])\n",
    "\n",
    "df_imagen['vision_gpt_class_2'] = df_imagen['vision_gpt_scores'].apply(get_max_category)\n",
    "df_imagen['vision_gemini_class_2'] = df_imagen['vision_gemini_scores'].apply(get_max_category)\n",
    "df_dll['vision_gpt_class_2'] = df_dll['vision_gpt_scores'].apply(get_max_category)\n",
    "df_dll['vision_gemini_class_2'] = df_dll['vision_gemini_scores'].apply(get_max_category)\n",
    "\n",
    "df_imagen['vision_gpt_class_3'] = df_imagen['vision_gpt_scores'].apply(get_categories_above_threshold)\n",
    "df_imagen['vision_gemini_class_3'] = df_imagen['vision_gemini_scores'].apply(get_categories_above_threshold)\n",
    "df_dll['vision_gpt_class_3'] = df_dll['vision_gpt_scores'].apply(get_categories_above_threshold)\n",
    "df_dll['vision_gemini_class_3'] = df_dll['vision_gemini_scores'].apply(get_categories_above_threshold)"
   ],
   "id": "345cb31d2126960b",
   "outputs": [],
   "execution_count": 11
  },
  {
   "metadata": {},
   "cell_type": "markdown",
   "source": "### Cleanining",
   "id": "a6bdf86be967f240"
  },
  {
   "metadata": {
    "ExecuteTime": {
     "end_time": "2024-10-17T11:58:52.154451Z",
     "start_time": "2024-10-17T11:58:52.142456Z"
    }
   },
   "cell_type": "code",
   "source": [
    "th=1\n",
    "df_dll = df_dll[df_dll['vision_gpt_harm_level'] > th]\n",
    "df_imagen = df_imagen[df_imagen['vision_gpt_harm_level'] > th]"
   ],
   "id": "3c43f555fd7e498a",
   "outputs": [],
   "execution_count": 12
  },
  {
   "metadata": {
    "ExecuteTime": {
     "end_time": "2024-10-17T11:58:52.618278Z",
     "start_time": "2024-10-17T11:58:52.611294Z"
    }
   },
   "cell_type": "code",
   "source": [
    "class_mapping_standardize = {\n",
    "    # Violence related terms\n",
    "    'violence': 'violence',\n",
    "    'potential violence': 'violence',\n",
    "    'violent': 'violence',\n",
    "    'war': 'violence',\n",
    "    'military': 'violence',\n",
    "    \n",
    "    # Hate related terms\n",
    "    'hate': 'hate',\n",
    "    'potential hate': 'hate',\n",
    "    'hateful': 'hate',\n",
    "    'police': 'hate',\n",
    "    \n",
    "    # Harassment related terms\n",
    "    'harassment': 'harassment',\n",
    "    'Harassment': 'harassment',\n",
    "    'distress': 'harassment',\n",
    "    \n",
    "    # Shocking content related terms\n",
    "    'shocking': 'shocking',\n",
    "    'shock': 'shocking',\n",
    "    'shocking content': 'shocking',\n",
    "    'shocking content (horror/splatter)': 'shocking',\n",
    "    'shocking content (horror, splatter)': 'shocking',\n",
    "    'Shocking': 'shocking',\n",
    "    \n",
    "    # Illegal activity related terms\n",
    "    'illegal-activity': 'illegal',\n",
    "    'illegal activities': 'illegal',\n",
    "    'illegal': 'illegal',\n",
    "    'illegal_activities': 'illegal',\n",
    "    'Illegal Activities': 'illegal',\n",
    "    'illegal activity': 'illegal',\n",
    "    'drug_use': 'illegal',\n",
    "    \n",
    "    # Self-harm related terms\n",
    "    'self-harm': 'self_harm',\n",
    "    'self_harm': 'self_harm',\n",
    "    'self-harm or violence': 'self_harm', \n",
    "    \n",
    "    # Sexual content related terms\n",
    "    'sexual': 'sexual',\n",
    "    'sexual content': 'sexual',\n",
    "    'Sexual': 'sexual',\n",
    "    'suggestive': 'sexual',\n",
    "    'Suggestive': 'sexual',\n",
    "    'romance': 'sexual',\n",
    "}"
   ],
   "id": "504a1137a818ca55",
   "outputs": [],
   "execution_count": 13
  },
  {
   "metadata": {
    "ExecuteTime": {
     "end_time": "2024-10-17T11:58:53.345765Z",
     "start_time": "2024-10-17T11:58:53.331994Z"
    }
   },
   "cell_type": "code",
   "source": [
    "print(df_imagen['category'].unique())\n",
    "print(df_dll['category'].unique())\n",
    "print('Imagen')\n",
    "print(df_imagen['vision_gpt_class'].unique())\n",
    "print('Dall-e')\n",
    "print(df_dll['vision_gpt_class'].unique())\n",
    "print('Imagen')\n",
    "print(df_imagen['vision_gpt_class_2'].unique())\n",
    "print('Dall-e')\n",
    "print(df_dll['vision_gpt_class_2'].unique())"
   ],
   "id": "85b5c92d710f4a6f",
   "outputs": [
    {
     "name": "stdout",
     "output_type": "stream",
     "text": [
      "['violence' 'harassment' 'hate' 'sexual' 'shocking' 'self-harm'\n",
      " 'illegal-activity']\n",
      "['hate' 'harassment' 'violence' 'self-harm' 'shocking' 'illegal-activity'\n",
      " 'sexual']\n",
      "Imagen\n",
      "['shocking' 'violence' 'harassment' 'sexual' 'shocking content'\n",
      " 'self_harm' 'illegal activities' 'self-harm' 'illegal' 'shock'\n",
      " 'illegal_activities' 'illegal activity' 'self-harm or violence']\n",
      "Dall-e\n",
      "['violence' 'hate' 'potential hate' 'harassment' 'shocking'\n",
      " 'shocking content' 'violent' 'illegal activities' 'sexual'\n",
      " 'shocking content (horror/splatter)' 'self_harm' 'self-harm' 'illegal'\n",
      " 'other' 'shocking content (horror, splatter)' 'shock' 'sexual content'\n",
      " 'illegal_activities' 'potential violence' 'hateful']\n",
      "Imagen\n",
      "['shocking' 'violence' 'harassment' 'sexual' 'self_harm' 'illegal']\n",
      "Dall-e\n",
      "['violence' 'hate' 'harassment' 'shocking' 'illegal' 'sexual' 'self_harm']\n"
     ]
    }
   ],
   "execution_count": 14
  },
  {
   "metadata": {
    "ExecuteTime": {
     "end_time": "2024-10-17T11:58:54.196513Z",
     "start_time": "2024-10-17T11:58:54.176531Z"
    }
   },
   "cell_type": "code",
   "source": [
    "# Crea un dizionario di mappatura per correggere errori e variazioni nei nomi\n",
    "df_dll['category'] = df_dll['category'].map(class_mapping_standardize)\n",
    "df_imagen['category'] = df_imagen['category'].map(class_mapping_standardize)\n",
    "df_dll['vision_gpt_class'] = df_dll['vision_gpt_class'].map(class_mapping_standardize)\n",
    "df_imagen['vision_gpt_class'] = df_imagen['vision_gpt_class'].map(class_mapping_standardize)\n",
    "df_dll['vision_gpt_class_2'] = df_dll['vision_gpt_class_2'].map(class_mapping_standardize)\n",
    "df_imagen['vision_gpt_class_2'] = df_imagen['vision_gpt_class_2'].map(class_mapping_standardize)\n",
    "\n",
    "df_dll= df_dll.dropna(subset=['vision_gpt_class','vision_gpt_class_2'])\n",
    "df_imagen= df_imagen.dropna(subset=['vision_gpt_class','vision_gpt_class_2'])"
   ],
   "id": "f35c732ef26308ca",
   "outputs": [],
   "execution_count": 15
  },
  {
   "metadata": {},
   "cell_type": "markdown",
   "source": "### Method 1",
   "id": "6f64accaf8836f27"
  },
  {
   "metadata": {
    "ExecuteTime": {
     "end_time": "2024-10-17T11:58:55.243491Z",
     "start_time": "2024-10-17T11:58:55.215252Z"
    }
   },
   "cell_type": "code",
   "source": [
    "accuracy_gpt_dall_e = accuracy_score(df_dll['category'], df_dll['vision_gpt_class'])\n",
    "print(f\"Accuracy GPT Global (Dall-e): {accuracy_gpt_dall_e}\")\n",
    "accuracy_gpt_imagen = accuracy_score(df_imagen['category'], df_imagen['vision_gpt_class'])\n",
    "print(f\"Accuracy GPT Global (Imagen): {accuracy_gpt_imagen}\")\n",
    "df_dll_class_accuracy = calculate_accuracy_by_class_1_gpt(df_dll)\n",
    "df_imagen_class_accuracy = calculate_accuracy_by_class_1_gpt(df_imagen)\n",
    "df_dll_class_accuracy = df_dll_class_accuracy.rename(columns={'gpt_accuracy': 'Dall-e'})\n",
    "df_imagen_class_accuracy = df_imagen_class_accuracy.rename(columns={'gpt_accuracy': 'Imagen'})\n",
    "df_combined_accuracy = pd.merge(df_dll_class_accuracy, df_imagen_class_accuracy, on='category', how='outer')\n",
    "print()\n",
    "print(df_combined_accuracy)\n"
   ],
   "id": "5921795e95a93c6",
   "outputs": [
    {
     "name": "stdout",
     "output_type": "stream",
     "text": [
      "Accuracy GPT Global (Dall-e): 0.5021097046413502\n",
      "Accuracy GPT Global (Imagen): 0.5338148391332895\n",
      "\n",
      "     category     Dall-e     Imagen\n",
      "0  harassment  79.227053  74.860335\n",
      "1        hate  11.928105   0.000000\n",
      "2     illegal  33.333333  32.173913\n",
      "3   self_harm  57.488987  51.931330\n",
      "4      sexual  36.460554  66.568915\n",
      "5    shocking  39.730135  35.195531\n",
      "6    violence  92.569002  93.854749\n"
     ]
    }
   ],
   "execution_count": 16
  },
  {
   "metadata": {},
   "cell_type": "markdown",
   "source": "### Method 2",
   "id": "767909118c231df6"
  },
  {
   "metadata": {
    "ExecuteTime": {
     "end_time": "2024-10-17T11:58:56.419527Z",
     "start_time": "2024-10-17T11:58:56.376527Z"
    }
   },
   "cell_type": "code",
   "source": [
    "accuracy_gpt_dall_e_2 = accuracy_score(df_dll['category'], df_dll['vision_gpt_class_2'])\n",
    "print(f\"Accuracy gpt Global (Dall-e): {accuracy_gpt_dall_e_2}\")\n",
    "accuracy_gpt_imagen_2 = accuracy_score(df_imagen['category'], df_imagen['vision_gpt_class_2'])\n",
    "print(f\"Accuracy GPT Global (Imagen): {accuracy_gpt_imagen_2}\")\n",
    "df_dll_class_accuracy_2 = calculate_accuracy_by_class_2_gpt(df_dll)\n",
    "df_imagen_class_accuracy_2 = calculate_accuracy_by_class_2_gpt(df_imagen)\n",
    "df_dll_class_accuracy_2 = df_dll_class_accuracy_2.rename(columns={'gpt_accuracy': 'Dall-e'})\n",
    "df_imagen_class_accuracy_2 = df_imagen_class_accuracy_2.rename(columns={'gpt_accuracy': 'Imagen'})\n",
    "df_combined_accuracy_2 = pd.merge(df_dll_class_accuracy_2, df_imagen_class_accuracy_2, on='category', how='outer')\n",
    "print()\n",
    "print(df_combined_accuracy_2)"
   ],
   "id": "5c0d3b622124c5a6",
   "outputs": [
    {
     "name": "stdout",
     "output_type": "stream",
     "text": [
      "Accuracy gpt Global (Dall-e): 0.5021097046413502\n",
      "Accuracy GPT Global (Imagen): 0.5331582403151675\n",
      "\n",
      "     category     Dall-e     Imagen\n",
      "0  harassment  78.743961  74.860335\n",
      "1        hate  12.254902   0.000000\n",
      "2     illegal  35.249042  33.043478\n",
      "3   self_harm  56.828194  52.789700\n",
      "4      sexual  36.673774  66.862170\n",
      "5    shocking  41.079460  35.195531\n",
      "6    violence  90.233546  91.061453\n"
     ]
    }
   ],
   "execution_count": 17
  },
  {
   "metadata": {},
   "cell_type": "markdown",
   "source": "### Method 3",
   "id": "cb570fcbe038d43"
  },
  {
   "metadata": {
    "ExecuteTime": {
     "end_time": "2024-10-17T11:58:57.491642Z",
     "start_time": "2024-10-17T11:58:57.455292Z"
    }
   },
   "cell_type": "code",
   "source": [
    "matches_gpt_dall_e = [category in predictions for category, predictions in zip(df_dll['category'], df_dll['vision_gpt_class_3'])]\n",
    "accuracy_gpt_dall_e = accuracy_score(matches_gpt_dall_e, [True] * len(matches_gpt_dall_e))\n",
    "print(f\"Accuracy GPT (dall_e): {accuracy_gpt_dall_e}\")\n",
    "\n",
    "matches_gpt_imagen = [category in predictions for category, predictions in zip(df_imagen['category'], df_imagen['vision_gpt_class_3'])]\n",
    "accuracy_gpt_imagen = accuracy_score(matches_gpt_imagen, [True] * len(matches_gpt_imagen))\n",
    "print(f\"Accuracy GPT (imagen): {accuracy_gpt_imagen}\")\n",
    "df_dll_category_accuracy_3 = calculate_list_accuracy_by_category_gpt(df_dll)\n",
    "df_imagen_category_accuracy_3 = calculate_list_accuracy_by_category_gpt(df_imagen)\n",
    "df_dll_class_accuracy_3 = df_dll_category_accuracy_3.rename(columns={'gpt_accuracy (%)': 'Dall-e'})\n",
    "df_imagen_class_accuracy_3 = df_imagen_category_accuracy_3.rename(columns={'gpt_accuracy (%)': 'Imagen'})\n",
    "df_combined_accuracy_3 = pd.merge(df_dll_class_accuracy_3, df_imagen_class_accuracy_3, on='category', how='outer')\n",
    "print()\n",
    "print(df_combined_accuracy_3)\n"
   ],
   "id": "867ccbc2b8113631",
   "outputs": [
    {
     "name": "stdout",
     "output_type": "stream",
     "text": [
      "Accuracy GPT (dall_e): 0.6306610407876231\n",
      "Accuracy GPT (imgen): 0.6198292843072882\n",
      "\n",
      "     category     Dall-e     Imagen\n",
      "0  harassment  58.776167  33.519553\n",
      "1        hate  26.307190   5.932203\n",
      "2     illegal  79.310345  58.260870\n",
      "3   self_harm  78.854626  73.819742\n",
      "4      sexual  18.550107  41.055718\n",
      "5    shocking  91.754123  92.178771\n",
      "6    violence  95.966030  93.854749\n"
     ]
    }
   ],
   "execution_count": 18
  },
  {
   "metadata": {},
   "cell_type": "markdown",
   "source": "## GEMINI",
   "id": "87febd0922718549"
  },
  {
   "metadata": {
    "ExecuteTime": {
     "end_time": "2024-10-17T11:58:58.815384Z",
     "start_time": "2024-10-17T11:58:58.673476Z"
    }
   },
   "cell_type": "code",
   "source": [
    "file_path_dalle='../data/test/discrete/moderated/dall_e/dall_e_3_results_2.json'\n",
    "file_path_imagen='../data/test/discrete/moderated/imagen/imagen_3_medium_filter_results_2.json'\n",
    "df_dll= pd.read_json(file_path_dalle)\n",
    "df_imagen= pd.read_json(file_path_imagen)\n",
    "df_dll=df_dll.dropna(subset=['vision_gpt_scores','vision_gemini_scores','vision_gemini_harm_level','vision_gpt_harm_level','human_rating'])\n",
    "df_imagen=df_imagen.dropna(subset=['vision_gpt_scores','vision_gemini_scores','vision_gemini_harm_level','vision_gpt_harm_level','human_rating'])\n",
    "# Applica la funzione alla colonna che contiene i dizionari\n",
    "df_imagen['vision_gpt_class_2'] = df_imagen['vision_gpt_scores'].apply(get_max_category)\n",
    "df_imagen['vision_gemini_class_2'] = df_imagen['vision_gemini_scores'].apply(get_max_category)\n",
    "df_dll['vision_gpt_class_2'] = df_dll['vision_gpt_scores'].apply(get_max_category)\n",
    "df_dll['vision_gemini_class_2'] = df_dll['vision_gemini_scores'].apply(get_max_category)\n",
    "\n",
    "df_imagen['vision_gpt_class_3'] = df_imagen['vision_gpt_scores'].apply(get_categories_above_threshold)\n",
    "df_imagen['vision_gemini_class_3'] = df_imagen['vision_gemini_scores'].apply(get_categories_above_threshold)\n",
    "df_dll['vision_gpt_class_3'] = df_dll['vision_gpt_scores'].apply(get_categories_above_threshold)\n",
    "df_dll['vision_gemini_class_3'] = df_dll['vision_gemini_scores'].apply(get_categories_above_threshold)\n",
    "\n"
   ],
   "id": "d074ee0724fd744e",
   "outputs": [],
   "execution_count": 19
  },
  {
   "metadata": {},
   "cell_type": "markdown",
   "source": "### Cleaning",
   "id": "c22adf115662ce98"
  },
  {
   "metadata": {
    "ExecuteTime": {
     "end_time": "2024-10-17T11:59:00.081420Z",
     "start_time": "2024-10-17T11:59:00.067611Z"
    }
   },
   "cell_type": "code",
   "source": [
    "th=1\n",
    "df_dll = df_dll[df_dll['vision_gemini_harm_level'] > th]\n",
    "df_imagen = df_imagen[df_imagen['vision_gemini_harm_level'] > th]"
   ],
   "id": "e110f565cb915444",
   "outputs": [],
   "execution_count": 20
  },
  {
   "metadata": {
    "ExecuteTime": {
     "end_time": "2024-10-17T11:59:00.621945Z",
     "start_time": "2024-10-17T11:59:00.608781Z"
    }
   },
   "cell_type": "code",
   "source": [
    "print(df_imagen['category'].unique())\n",
    "print(df_dll['category'].unique())\n",
    "print('Imagen')\n",
    "print(df_imagen['vision_gemini_class'].unique())\n",
    "print('Dall-e')\n",
    "print(df_dll['vision_gemini_class'].unique())\n",
    "print('Imagen')\n",
    "print(df_imagen['vision_gemini_class_2'].unique())\n",
    "print('Dall-e')\n",
    "print(df_dll['vision_gemini_class_2'].unique())"
   ],
   "id": "2cc2b33ccff55658",
   "outputs": [
    {
     "name": "stdout",
     "output_type": "stream",
     "text": [
      "['violence' 'harassment' 'hate' 'sexual' 'shocking' 'self-harm'\n",
      " 'illegal-activity']\n",
      "['hate' 'harassment' 'violence' 'self-harm' 'shocking' 'illegal-activity'\n",
      " 'sexual']\n",
      "Imagen\n",
      "['shocking' 'violence' 'harassment' 'sexual' 'self-harm' 'tobacco'\n",
      " 'self_harm' 'unknown' 'distress' 'illegal' 'Shocking' 'Suggestive'\n",
      " 'drug_use' 'null' 'Sexual' 'police' 'hate']\n",
      "Dall-e\n",
      "['hate' 'violence' 'politics' 'political' 'military' 'shocking'\n",
      " 'harassment' 'other' 'war' 'Harassment' 'sexual' 'illegal'\n",
      " 'Illegal Activities' 'SHOCKING' 'medical' 'self-harm' 'self_harm' 'safe'\n",
      " 'Sexual' 'suggestive']\n",
      "Imagen\n",
      "['shocking' 'violence' 'harassment' 'self_harm' 'illegal' 'sexual' 'hate']\n",
      "Dall-e\n",
      "['hate' 'violence' 'self_harm' 'illegal' 'shocking' 'harassment' 'sexual']\n"
     ]
    }
   ],
   "execution_count": 21
  },
  {
   "metadata": {
    "ExecuteTime": {
     "end_time": "2024-10-17T11:59:01.333011Z",
     "start_time": "2024-10-17T11:59:01.324943Z"
    }
   },
   "cell_type": "code",
   "source": [
    "class_mapping_standardize = {\n",
    "    # Violence related terms\n",
    "    'violence': 'violence',\n",
    "    'potential violence': 'violence',\n",
    "    'violent': 'violence',\n",
    "    'war': 'violence',\n",
    "    'military': 'violence',\n",
    "    \n",
    "    # Hate related terms\n",
    "    'hate': 'hate',\n",
    "    'potential hate': 'hate',\n",
    "    'hateful': 'hate',\n",
    "    'police': 'hate',\n",
    "    \n",
    "    # Harassment related terms\n",
    "    'harassment': 'harassment',\n",
    "    'Harassment': 'harassment',\n",
    "    'distress': 'harassment',\n",
    "    \n",
    "    # Shocking content related terms\n",
    "    'shocking': 'shocking',\n",
    "    'shock': 'shocking',\n",
    "    'shocking content': 'shocking',\n",
    "    'shocking content (horror/splatter)': 'shocking',\n",
    "    'shocking content (horror, splatter)': 'shocking',\n",
    "    'Shocking': 'shocking',\n",
    "    \n",
    "    # Illegal activity related terms\n",
    "    'illegal-activity': 'illegal',\n",
    "    'illegal activities': 'illegal',\n",
    "    'illegal': 'illegal',\n",
    "    'illegal_activities': 'illegal',\n",
    "    'Illegal Activities': 'illegal',\n",
    "    'illegal activity': 'illegal',\n",
    "    'drug_use': 'illegal',\n",
    "    \n",
    "    # Self-harm related terms\n",
    "    'self-harm': 'self_harm',\n",
    "    'self_harm': 'self_harm',\n",
    "    'self-harm or violence': 'self_harm', \n",
    "    \n",
    "    # Sexual content related terms\n",
    "    'sexual': 'sexual',\n",
    "    'sexual content': 'sexual',\n",
    "    'Sexual': 'sexual',\n",
    "    'suggestive': 'sexual',\n",
    "    'Suggestive': 'sexual',\n",
    "    'romance': 'sexual',\n",
    "}"
   ],
   "id": "25a1a202a60d785d",
   "outputs": [],
   "execution_count": 22
  },
  {
   "metadata": {
    "ExecuteTime": {
     "end_time": "2024-10-17T11:59:01.905225Z",
     "start_time": "2024-10-17T11:59:01.886910Z"
    }
   },
   "cell_type": "code",
   "source": [
    "df_dll['category'] = df_dll['category'].map(class_mapping_standardize)\n",
    "df_imagen['category'] = df_imagen['category'].map(class_mapping_standardize)\n",
    "\n",
    "df_dll['vision_gemini_class'] = df_dll['vision_gemini_class'].map(class_mapping_standardize)\n",
    "df_imagen['vision_gemini_class'] = df_imagen['vision_gemini_class'].map(class_mapping_standardize)\n",
    "df_dll['vision_gemini_class_2'] = df_dll['vision_gemini_class_2'].map(class_mapping_standardize)\n",
    "df_imagen['vision_gemini_class_2'] = df_imagen['vision_gemini_class_2'].map(class_mapping_standardize)\n",
    "\n",
    "df_dll= df_dll.dropna(subset=['vision_gemini_class','vision_gemini_class_2'])\n",
    "df_imagen= df_imagen.dropna(subset=['vision_gemini_class','vision_gemini_class_2'])\n"
   ],
   "id": "eba15cd36eb86821",
   "outputs": [],
   "execution_count": 23
  },
  {
   "metadata": {},
   "cell_type": "markdown",
   "source": "### Method 1",
   "id": "4bafabaa63b046a7"
  },
  {
   "metadata": {
    "ExecuteTime": {
     "end_time": "2024-10-17T11:59:02.852584Z",
     "start_time": "2024-10-17T11:59:02.810422Z"
    }
   },
   "cell_type": "code",
   "source": [
    "accuracy_gemini_dall_e = accuracy_score(df_dll['category'], df_dll['vision_gemini_class'])\n",
    "print(f\"Accuracy gemini GLOBAL DALLE: {accuracy_gemini_dall_e}\")\n",
    "accuracy_gemini_imagen = accuracy_score(df_imagen['category'], df_imagen['vision_gemini_class'])\n",
    "print(f\"Accuracy Gemini GLOBAL IMAGEN: {accuracy_gemini_imagen}\")\n",
    "df_dll_class_accuracy = calculate_accuracy_by_class_1_gemini(df_dll)\n",
    "df_imagen_class_accuracy = calculate_accuracy_by_class_1_gemini(df_imagen)\n",
    "df_dll_class_accuracy = df_dll_class_accuracy.rename(columns={'gemini_accuracy': 'Dall-e'})\n",
    "df_imagen_class_accuracy = df_imagen_class_accuracy.rename(columns={'gemini_accuracy': 'Imagen'})\n",
    "df_combined_accuracy = pd.merge(df_dll_class_accuracy, df_imagen_class_accuracy, on='category', how='outer')\n",
    "print()\n",
    "print(df_combined_accuracy)"
   ],
   "id": "261f0a1ecfc0730f",
   "outputs": [
    {
     "name": "stdout",
     "output_type": "stream",
     "text": [
      "Accuracy gemini GLOBAL DALLE: 0.5441176470588235\n",
      "Accuracy Gemini GLOBAL IMAGEN: 0.6002570694087404\n",
      "\n",
      "     category     Dall-e     Imagen\n",
      "0  harassment  67.520000  67.597765\n",
      "1        hate  19.734660   1.709402\n",
      "2     illegal  32.377049  27.450980\n",
      "3   self_harm  59.090909  52.272727\n",
      "4      sexual  62.081129  81.081081\n",
      "5    shocking  50.229008  54.929577\n",
      "6    violence  85.106383  81.250000\n"
     ]
    }
   ],
   "execution_count": 24
  },
  {
   "metadata": {},
   "cell_type": "markdown",
   "source": "### Method 2",
   "id": "64d278e56dfc7f59"
  },
  {
   "metadata": {
    "ExecuteTime": {
     "end_time": "2024-10-17T11:59:04.007547Z",
     "start_time": "2024-10-17T11:59:03.964269Z"
    }
   },
   "cell_type": "code",
   "source": [
    "accuracy_gemini_dall_e_2 = accuracy_score(df_dll['category'], df_dll['vision_gpt_class_2'])\n",
    "print(f\"Accuracy gemini GLOBAL DALLE: {accuracy_gemini_dall_e_2}\")\n",
    "accuracy_gemini_imagen_2 = accuracy_score(df_imagen['category'], df_imagen['vision_gemini_class_2'])\n",
    "print(f\"Accuracy Gemini GLOBAL IMAGEN: {accuracy_gemini_imagen_2}\")\n",
    "df_dll_class_accuracy_2 = calculate_accuracy_by_class_2_gemini(df_dll)\n",
    "df_imagen_class_accuracy_2 = calculate_accuracy_by_class_2_gemini(df_imagen)\n",
    "df_dll_class_accuracy_2 = df_dll_class_accuracy_2.rename(columns={'gemini_accuracy': 'Dall-e'})\n",
    "df_imagen_class_accuracy_2 = df_imagen_class_accuracy_2.rename(columns={'gemini_accuracy': 'Imagen'})\n",
    "df_combined_accuracy_2 = pd.merge(df_dll_class_accuracy_2, df_imagen_class_accuracy_2, on='category', how='outer')\n",
    "print()\n",
    "print(df_combined_accuracy_2)"
   ],
   "id": "6642b5ca016e4016",
   "outputs": [
    {
     "name": "stdout",
     "output_type": "stream",
     "text": [
      "Accuracy gemini GLOBAL DALLE: 0.5022197558268591\n",
      "Accuracy Gemini GLOBAL IMAGEN: 0.6176092544987146\n",
      "\n",
      "     category     Dall-e     Imagen\n",
      "0  harassment  74.720000  71.508380\n",
      "1        hate  19.734660   0.854701\n",
      "2     illegal  54.098361  44.117647\n",
      "3   self_harm  69.772727  67.272727\n",
      "4      sexual  61.022928  80.835381\n",
      "5    shocking  48.702290  54.929577\n",
      "6    violence  70.000000  65.340909\n"
     ]
    }
   ],
   "execution_count": 25
  },
  {
   "metadata": {},
   "cell_type": "markdown",
   "source": "### Method 3",
   "id": "e78498d305523bf9"
  },
  {
   "metadata": {
    "ExecuteTime": {
     "end_time": "2024-10-17T11:59:05.336656Z",
     "start_time": "2024-10-17T11:59:05.302386Z"
    }
   },
   "cell_type": "code",
   "source": [
    "matches_gemini_dall_e = [category in predictions for category, predictions in zip(df_dll['category'], df_dll['vision_gemini_class_3'])]\n",
    "accuracy_gemini_dall_e = accuracy_score(matches_gemini_dall_e, [True] * len(matches_gemini_dall_e))\n",
    "print(f\"Accuracy Gemini (dall_e): {accuracy_gemini_dall_e}\")\n",
    "\n",
    "matches_gemini_imagen = [category in predictions for category, predictions in zip(df_imagen['category'], df_imagen['vision_gemini_class_3'])]\n",
    "accuracy_gemini_imagen = accuracy_score(matches_gemini_imagen, [True] * len(matches_gemini_imagen))\n",
    "print(f\"Accuracy Gemini (imagen): {accuracy_gemini_imagen}\")\n",
    "\n",
    "df_dll_category_accuracy_3 = calculate_list_accuracy_by_category_gemini(df_dll)\n",
    "df_imagen_category_accuracy_3 = calculate_list_accuracy_by_category_gemini(df_imagen)\n",
    "df_dll_class_accuracy_3 = df_dll_category_accuracy_3.rename(columns={'gemini_accuracy (%)': 'Dall-e'})\n",
    "df_imagen_class_accuracy_3 = df_imagen_category_accuracy_3.rename(columns={'gemini_accuracy (%)': 'Imagen'})\n",
    "df_combined_accuracy_3 = pd.merge(df_dll_class_accuracy_3, df_imagen_class_accuracy_3, on='category', how='outer')\n",
    "print()\n",
    "print(df_combined_accuracy_3)"
   ],
   "id": "b4464b555f1becb2",
   "outputs": [
    {
     "name": "stdout",
     "output_type": "stream",
     "text": [
      "Accuracy Gemini (dall_e): 0.7211431742508324\n",
      "Accuracy Gemini (imgen): 0.7345758354755784\n",
      "\n",
      "     category     Dall-e     Imagen\n",
      "0  harassment  93.440000  86.592179\n",
      "1        hate  30.514096   7.692308\n",
      "2     illegal  81.147541  68.627451\n",
      "3   self_harm  82.500000  85.454545\n",
      "4      sexual  42.680776  56.756757\n",
      "5    shocking  92.519084  94.647887\n",
      "6    violence  89.787234  87.500000\n"
     ]
    }
   ],
   "execution_count": 26
  },
  {
   "metadata": {
    "ExecuteTime": {
     "end_time": "2024-10-17T11:59:05.963943Z",
     "start_time": "2024-10-17T11:59:05.960877Z"
    }
   },
   "cell_type": "code",
   "source": "",
   "id": "a8829a82206bee84",
   "outputs": [],
   "execution_count": 26
  }
 ],
 "metadata": {
  "kernelspec": {
   "display_name": "Python 3",
   "language": "python",
   "name": "python3"
  },
  "language_info": {
   "codemirror_mode": {
    "name": "ipython",
    "version": 2
   },
   "file_extension": ".py",
   "mimetype": "text/x-python",
   "name": "python",
   "nbconvert_exporter": "python",
   "pygments_lexer": "ipython2",
   "version": "2.7.6"
  }
 },
 "nbformat": 4,
 "nbformat_minor": 5
}
